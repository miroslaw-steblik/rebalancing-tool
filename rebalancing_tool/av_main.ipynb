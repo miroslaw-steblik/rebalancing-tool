{
 "cells": [
  {
   "cell_type": "markdown",
   "metadata": {},
   "source": [
    "# **Rebalancing Tool - AV** \n",
    "    \n",
    "This tool is used to validate if funds on AV platform are within predefined tolerance ranges."
   ]
  },
  {
   "cell_type": "code",
   "execution_count": 1,
   "metadata": {},
   "outputs": [],
   "source": [
    "import pandas as pd\n",
    "\n",
    "from utils.glidepath import merged_glidepaths\n",
    "import utils.pipeline as pl\n",
    "import utils.validations as val\n",
    "import utils.config as config\n"
   ]
  },
  {
   "cell_type": "markdown",
   "metadata": {},
   "source": [
    "## Settings\n"
   ]
  },
  {
   "cell_type": "code",
   "execution_count": 2,
   "metadata": {},
   "outputs": [],
   "source": [
    "PROVIDER = 'AV'\n",
    "\n",
    "# File paths\n",
    "av_weekly = 'data/av_weekly'\n",
    "av_reference = pd.read_csv('data/reference/av_reference.csv')\n",
    "av_static_funds_targets = pd.read_csv('data/reference/av_static_funds_targets.csv')\n",
    "av_output = 'data/output/av_output.csv'\n",
    "\n",
    "# Tolerance levels\n",
    "MIN_RANGE = -0.03\n",
    "MAX_RANGE = 0.03\n",
    "\n",
    "glidepath_lookback = 'YES'\n",
    "\n",
    "webhook_url = config.webhook_url\n"
   ]
  },
  {
   "cell_type": "markdown",
   "metadata": {},
   "source": [
    "## Processing"
   ]
  },
  {
   "cell_type": "markdown",
   "metadata": {},
   "source": [
    "### Preprocess data"
   ]
  },
  {
   "cell_type": "code",
   "execution_count": 3,
   "metadata": {},
   "outputs": [
    {
     "name": "stdout",
     "output_type": "stream",
     "text": [
      "<class 'pandas.core.frame.DataFrame'>\n",
      "RangeIndex: 720 entries, 0 to 719\n",
      "Data columns (total 8 columns):\n",
      " #   Column           Non-Null Count  Dtype         \n",
      "---  ------           --------------  -----         \n",
      " 0   date             720 non-null    datetime64[ns]\n",
      " 1   fund_label       720 non-null    object        \n",
      " 2   fund_key         720 non-null    object        \n",
      " 3   valuation        720 non-null    float64       \n",
      " 4   actual_weight    720 non-null    float64       \n",
      " 5   target_weight    720 non-null    float64       \n",
      " 6   fund_glidepath   278 non-null    object        \n",
      " 7   fund_underlying  472 non-null    object        \n",
      "dtypes: datetime64[ns](1), float64(3), object(4)\n",
      "memory usage: 45.1+ KB\n",
      "None\n"
     ]
    }
   ],
   "source": [
    "\n",
    "all_glidepaths = merged_glidepaths()\n",
    "df = pl.load_and_preprocess_data_av(av_weekly, av_reference)\n",
    "print(df.info())    \n",
    "\n"
   ]
  },
  {
   "cell_type": "markdown",
   "metadata": {},
   "source": [
    "### Test"
   ]
  },
  {
   "cell_type": "code",
   "execution_count": 4,
   "metadata": {},
   "outputs": [
    {
     "name": "stdout",
     "output_type": "stream",
     "text": [
      "Validation Result: Column date has been validated\n",
      "Validation Result: Column fund_label has been validated\n",
      "Validation Result: Column fund_underlying has been validated\n",
      "Validation Result: Column fund_key has been validated\n",
      "Validation Result: Column fund_glidepath has been validated\n",
      "Validation Result: Column valuation has been validated\n",
      "Validation Result: Column actual_weight has been validated\n",
      "Validation Result: Column target_weight has been validated\n",
      "Validation Result: No duplicates found\n",
      "\n"
     ]
    }
   ],
   "source": [
    "val.validate_columns(df, pl.pre_columns)\n",
    "val.test_no_duplicates(df)  \n"
   ]
  },
  {
   "cell_type": "markdown",
   "metadata": {},
   "source": [
    "### Main processing and calculations"
   ]
  },
  {
   "cell_type": "code",
   "execution_count": 5,
   "metadata": {},
   "outputs": [
    {
     "name": "stdout",
     "output_type": "stream",
     "text": [
      "Lookup values added successfully and count test is passed.\n",
      "\n",
      "Validation test: No negative values found in the column \"target_val\"\n",
      "\n",
      "Data processed and saved to data/output/av_output.csv\n",
      "\n"
     ]
    }
   ],
   "source": [
    "df = pl.add_glidepath_data(df, glidepath_lookback)\n",
    "df = pl.add_lookup_values(df, all_glidepaths)\n",
    "df = pl.add_static_target_values(df, av_static_funds_targets)\n",
    "df = pl.calculate_difference_final(df)\n",
    "\n",
    "df.to_csv(av_output, index=False)\n",
    "print('Data processed and saved to data/output/av_output.csv')\n",
    "print('')\n",
    "\n",
    "\n"
   ]
  },
  {
   "cell_type": "markdown",
   "metadata": {},
   "source": [
    "### Adding mask providing final output"
   ]
  },
  {
   "cell_type": "code",
   "execution_count": 6,
   "metadata": {},
   "outputs": [
    {
     "name": "stdout",
     "output_type": "stream",
     "text": [
      "2024-05-31\n"
     ]
    }
   ],
   "source": [
    "validated_df, date_result = pl.check_range(df, MIN_RANGE, MAX_RANGE)\n",
    "validated_df = pl.post_transformations(validated_df)\n",
    "print(date_result)\n"
   ]
  },
  {
   "cell_type": "markdown",
   "metadata": {},
   "source": [
    "### Test"
   ]
  },
  {
   "cell_type": "code",
   "execution_count": 7,
   "metadata": {},
   "outputs": [
    {
     "name": "stdout",
     "output_type": "stream",
     "text": [
      "Validation Result: Dates are in range \n"
     ]
    }
   ],
   "source": [
    "val.test_no_invalid_dates(validated_df)\n",
    "\n"
   ]
  },
  {
   "cell_type": "markdown",
   "metadata": {},
   "source": [
    "## Send Message"
   ]
  },
  {
   "cell_type": "code",
   "execution_count": 8,
   "metadata": {},
   "outputs": [],
   "source": [
    "#pl.send_dataframe_to_teams(validated_df, webhook_url, provider=PROVIDER)\n"
   ]
  }
 ],
 "metadata": {
  "kernelspec": {
   "display_name": "Python 3 (ipykernel)",
   "language": "python",
   "name": "python3"
  },
  "language_info": {
   "codemirror_mode": {
    "name": "ipython",
    "version": 3
   },
   "file_extension": ".py",
   "mimetype": "text/x-python",
   "name": "python",
   "nbconvert_exporter": "python",
   "pygments_lexer": "ipython3",
   "version": "3.10.12"
  }
 },
 "nbformat": 4,
 "nbformat_minor": 4
}
