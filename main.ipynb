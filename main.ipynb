{
 "cells": [
  {
   "cell_type": "code",
   "execution_count": null,
   "metadata": {},
   "outputs": [],
   "source": [
    "import pandas as pd\n",
    "\n",
    "av_weekly = pd.read_excel('data/av_weekly/av_weekly_file.xlsx')\n",
    "sw_weekly = pd.read_excel('data/sw_weekly/sw_weekly_file.xlsx')\n",
    "\n",
    "av_reference = pd.read_csv('data/reference/av_reference.csv')\n",
    "\n",
    "\n",
    "print(av_weekly.info())\n",
    "#print(sw_weekly.head())\n"
   ]
  },
  {
   "cell_type": "code",
   "execution_count": 3,
   "metadata": {},
   "outputs": [
    {
     "name": "stdout",
     "output_type": "stream",
     "text": [
      "         Date Fund Code                                          Fund Name  \\\n",
      "0  31/05/2024      CS1F  Mercer Growth / Balanced Risk (without retirem...   \n",
      "1  31/05/2024      CS1F  Mercer Growth / Balanced Risk (without retirem...   \n",
      "2  31/05/2024      CS1T                             Mercer Passive Shariah   \n",
      "3  31/05/2024      CS1T                             Mercer Passive Shariah   \n",
      "4  31/05/2024      CS1V                       Mercer Low Volatility Equity   \n",
      "5  31/05/2024      CS1V                       Mercer Low Volatility Equity   \n",
      "6  31/05/2024      CS2L                         Mercer Retirement: Cash M6   \n",
      "7  31/05/2024      CS2L                         Mercer Retirement: Cash M6   \n",
      "8  31/05/2024      CS2N             Mercer Inflation Linked Pre-Retirement   \n",
      "9  31/05/2024      CS2N             Mercer Inflation Linked Pre-Retirement   \n",
      "\n",
      "  Asset Code                                        Description  \\\n",
      "0    BJ5JS00               CS1F -> Mercer Multi Asset Growth S8   \n",
      "1       CASH                                       CS1F -> CASH   \n",
      "2    BMB3PT5           CS1T -> Islamic Global Equity Index Fund   \n",
      "3       CASH                                       CS1T -> CASH   \n",
      "4    B4607R7               CS1V -> Mercer Low Volume Equity Acc   \n",
      "5       CASH                                       CS1V -> CASH   \n",
      "6    B43FT80  CS2L -> ICS Institutional Sterling Liquidity P...   \n",
      "7       CASH                                       CS2L -> CASH   \n",
      "8       CASH                                       CS2N -> CASH   \n",
      "9      EK066  CS2N -> LGIM Future World Inflation Linked Ann...   \n",
      "\n",
      "   Holding Value  Weighting  Target Weight  \\\n",
      "0   3,067,142.50     0.9999            1.0   \n",
      "1         149.64     0.0000            0.0   \n",
      "2  56,787,483.42     1.0003            1.0   \n",
      "3     -15,118.00    -0.0003            0.0   \n",
      "4   1,489,361.54     0.9995            1.0   \n",
      "5         420.70     0.0003            0.0   \n",
      "6  21,695,341.03     1.0002            1.0   \n",
      "7      -4,423.68    -0.0002            0.0   \n",
      "8         973.24     0.0013            0.0   \n",
      "9     763,984.33     0.9987            1.0   \n",
      "\n",
      "                                        av_fund_name underlying_fund  \n",
      "0               CS1F -> Mercer Multi Asset Growth S8             MAG  \n",
      "1                                       CS1F -> CASH             NaN  \n",
      "2                                                NaN             NaN  \n",
      "3                                                NaN             NaN  \n",
      "4                                                NaN             NaN  \n",
      "5                                                NaN             NaN  \n",
      "6  CS2L -> ICS Institutional Sterling Liquidity P...            cash  \n",
      "7                                                NaN             NaN  \n",
      "8                                                NaN             NaN  \n",
      "9                                                NaN             NaN  \n",
      "<class 'pandas.core.frame.DataFrame'>\n",
      "RangeIndex: 720 entries, 0 to 719\n",
      "Data columns (total 10 columns):\n",
      " #   Column           Non-Null Count  Dtype  \n",
      "---  ------           --------------  -----  \n",
      " 0   Date             720 non-null    object \n",
      " 1   Fund Code        720 non-null    object \n",
      " 2   Fund Name        720 non-null    object \n",
      " 3   Asset Code       720 non-null    object \n",
      " 4   Description      720 non-null    object \n",
      " 5   Holding Value    720 non-null    object \n",
      " 6   Weighting        720 non-null    float64\n",
      " 7   Target Weight    720 non-null    float64\n",
      " 8   av_fund_name     551 non-null    object \n",
      " 9   underlying_fund  344 non-null    object \n",
      "dtypes: float64(2), object(8)\n",
      "memory usage: 56.4+ KB\n",
      "None\n"
     ]
    }
   ],
   "source": [
    "\n",
    "av_reference = av_reference.drop_duplicates(subset='av_fund_name')\n",
    "\n",
    "merged_df = av_weekly.merge(av_reference, \n",
    "                            left_on='Description', \n",
    "                            right_on='av_fund_name', \n",
    "                            how='left')\n",
    "\n",
    "print(merged_df.head(10))\n",
    "print(merged_df.info())"
   ]
  },
  {
   "cell_type": "code",
   "execution_count": null,
   "metadata": {},
   "outputs": [],
   "source": []
  }
 ],
 "metadata": {
  "kernelspec": {
   "display_name": "Python 3",
   "language": "python",
   "name": "python3"
  },
  "language_info": {
   "codemirror_mode": {
    "name": "ipython",
    "version": 3
   },
   "file_extension": ".py",
   "mimetype": "text/x-python",
   "name": "python",
   "nbconvert_exporter": "python",
   "pygments_lexer": "ipython3",
   "version": "3.10.12"
  }
 },
 "nbformat": 4,
 "nbformat_minor": 2
}
